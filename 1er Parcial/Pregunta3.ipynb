{
  "nbformat": 4,
  "nbformat_minor": 0,
  "metadata": {
    "colab": {
      "provenance": []
    },
    "kernelspec": {
      "name": "python3",
      "display_name": "Python 3"
    },
    "language_info": {
      "name": "python"
    }
  },
  "cells": [
    {
      "cell_type": "code",
      "execution_count": null,
      "metadata": {
        "colab": {
          "base_uri": "https://localhost:8080/"
        },
        "id": "gk8WB8IKteak",
        "outputId": "112b804a-bedc-4cc5-f6d8-51b116bd12ca"
      },
      "outputs": [
        {
          "output_type": "stream",
          "name": "stdout",
          "text": [
            "Secuencia óptima: [9, 1, 9, 1]\n"
          ]
        }
      ],
      "source": []
    },
    {
      "cell_type": "code",
      "source": [
        "import numpy as np\n",
        "import random\n",
        "\n",
        "# Definición de la matriz del teclado\n",
        "teclado = np.array([[1, 2, 3],\n",
        "                    [4, 5, 6],\n",
        "                    [7, 8, 9]])\n",
        "\n",
        "# Función para calcular la distancia euclidiana entre dos teclas\n",
        "def distancia(a, b):\n",
        "    ax, ay = np.argwhere(teclado == a)[0]\n",
        "    bx, by = np.argwhere(teclado == b)[0]\n",
        "    return np.sqrt((ax - bx) ** 2 + (ay - by) ** 2)\n",
        "\n",
        "# Función de aptitud (fitness)\n",
        "def fitness(secuencia):\n",
        "    total_distancia = 0\n",
        "    for i in range(len(secuencia) - 1):\n",
        "        total_distancia += distancia(secuencia[i], secuencia[i + 1])\n",
        "    return total_distancia\n",
        "\n",
        "# Función de cruce (crossover)\n",
        "def cruce(a, b):\n",
        "    punto_cruce = random.randint(1, len(a) - 1)\n",
        "    hijo1 = a[:punto_cruce] + b[punto_cruce:]\n",
        "    hijo2 = b[:punto_cruce] + a[punto_cruce:]\n",
        "    return hijo1, hijo2\n",
        "\n",
        "# Función de mutación\n",
        "def mutacion(secuencia):\n",
        "    i, j = random.sample(range(len(secuencia)), 2)\n",
        "    secuencia[i], secuencia[j] = secuencia[j], secuencia[i]\n",
        "    return secuencia\n",
        "\n",
        "# Algoritmo genético\n",
        "def algoritmo_genetico(iteraciones, poblacion_size, tasa_mutacion):\n",
        "    # Creación de la población inicial\n",
        "    poblacion = [random.sample(range(1, 10), 9) for _ in range(poblacion_size)]\n",
        "    \n",
        "    for _ in range(iteraciones):\n",
        "        # Selección\n",
        "        poblacion.sort(key=fitness, reverse=True)\n",
        "        poblacion = poblacion[:poblacion_size // 2]\n",
        "\n",
        "        # Cruce\n",
        "        hijos = []\n",
        "        for i in range(0, len(poblacion), 2):\n",
        "            hijo1, hijo2 = cruce(poblacion[i], poblacion[i + 1])\n",
        "            hijos.append(hijo1)\n",
        "            hijos.append(hijo2)\n",
        "        poblacion += hijos\n",
        "\n",
        "        # Mutación\n",
        "        for i in range(len(poblacion)):\n",
        "            if random.random() < tasa_mutacion:\n",
        "                poblacion[i] = mutacion(poblacion[i])\n",
        "\n",
        "    poblacion.sort(key=fitness, reverse=True)\n",
        "    return poblacion[0]\n",
        "\n",
        "# Parámetros del algoritmo genético\n",
        "iteraciones = 1000\n",
        "poblacion_size = 100\n",
        "tasa_mutacion = 0.1\n",
        "\n",
        "# Ejecución del algoritmo genético\n",
        "contrasena_optima = algoritmo_genetico(iteraciones, poblacion_size, tasa_mutacion)\n",
        "print(\"Contraseña óptima:\", contrasena_optima)\n"
      ],
      "metadata": {
        "colab": {
          "base_uri": "https://localhost:8080/"
        },
        "id": "Fzxl_tsTJnu1",
        "outputId": "63117e5c-795c-4308-ecd9-d1ba145cd3e1"
      },
      "execution_count": 2,
      "outputs": [
        {
          "output_type": "stream",
          "name": "stdout",
          "text": [
            "Contraseña óptima: [7, 3, 7, 3, 9, 1, 9, 1, 9]\n"
          ]
        }
      ]
    }
  ]
}