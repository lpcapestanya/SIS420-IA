{
  "cells": [
    {
      "cell_type": "markdown",
      "metadata": {
        "id": "iJIX2OTpvTST"
      },
      "source": [
        "[![Open In Colab](https://colab.research.google.com/assets/colab-badge.svg)](https://colab.research.google.com/github/sensioai/blog/blob/master/025_mlp_framework/mlp_framework.ipynb)"
      ]
    },
    {
      "cell_type": "markdown",
      "metadata": {
        "id": "FMSVq-RdvTSo"
      },
      "source": [
        "## MLP y Capas"
      ]
    },
    {
      "cell_type": "code",
      "execution_count": 65,
      "metadata": {
        "id": "Qr8HPSe1yMka"
      },
      "outputs": [],
      "source": [
        "import numpy as np\n",
        "import pandas as pd\n",
        "from sklearn.preprocessing import LabelEncoder\n",
        "import random"
      ]
    },
    {
      "cell_type": "code",
      "execution_count": 66,
      "metadata": {
        "ExecuteTime": {
          "end_time": "2020-08-10T13:13:12.785890Z",
          "start_time": "2020-08-10T13:13:12.775889Z"
        },
        "id": "WSBnJuN5vTSr"
      },
      "outputs": [],
      "source": [
        "# clase MLP, la red neuronal\n",
        "class MLP:\n",
        "    # Inicializador donde se pasa la lista de capas y las guarda\n",
        "    def __init__(self, layers):\n",
        "        self.layers = layers\n",
        "\n",
        "    def __call__(self, x):\n",
        "        # calculamos la salida del modelo aplicando\n",
        "        # cada capa de manera secuencial\n",
        "        # Se itera por la lista de capas y a cada capa se pasara los inputs\n",
        "        # Donde los outputs seran los inputs de la siguiente capa, los ultimos outputs de la ultima capa son las salidas del perceptron multicapa\n",
        "        for layer in self.layers:\n",
        "            x = layer(x)\n",
        "        return x"
      ]
    },
    {
      "cell_type": "markdown",
      "metadata": {
        "id": "nhQxCatUvTSv"
      },
      "source": [
        "Ahora definimos las diferentes capas que necesitamos. En primer lugar tendremos una clase base que contendrá los elementos y funcionalidad común de cada capa. Esta clase contendrá una lista con los parámetros entrenables de la capa y sus gradientes."
      ]
    },
    {
      "cell_type": "code",
      "execution_count": 67,
      "metadata": {
        "ExecuteTime": {
          "end_time": "2020-08-10T13:13:13.130767Z",
          "start_time": "2020-08-10T13:13:13.123088Z"
        },
        "id": "z1-UNHDQvTSv"
      },
      "outputs": [],
      "source": [
        "# Implementacion de las capas esta es un tipo de clase padre que heredara a sus hijos\n",
        "class Layer():\n",
        "    def __init__(self):\n",
        "        # Lista de parametros que guarda parametros para ser actualizados por el optimizador\n",
        "        self.params = []\n",
        "        # Lista con los gradientes que luego seran aplicados a lo sparametros\n",
        "        self.grads = []\n",
        "\n",
        "    # la funcion recibe inputs y devuelve los inputs como si fueran outputs\n",
        "    def __call__(self, x):\n",
        "        # por defecto, devolver los inputs\n",
        "        # cada capa hará algo diferente aquí\n",
        "        return x\n",
        "\n",
        "    # Funcion que recibe gradientes de las capas y calculara sus propios gradientes y devolvera los gradientes que tiene que pasar a las capas de abajo\n",
        "    def backward(self, grad):\n",
        "        # cada capa, calculará sus gradientes\n",
        "        # y los devolverá para las capas siguientes\n",
        "        return grad\n",
        "\n",
        "    # funcion que actualizara los parametros segun lo que le diga el optimizador\n",
        "    def update(self, params):\n",
        "        return"
      ]
    },
    {
      "cell_type": "markdown",
      "metadata": {
        "id": "gsgyqo7avTSw"
      },
      "source": [
        "Ahora podemos definir las diferentes capas que utilizaremos. Hasta ahora sólo hemos visto la capa lineal y diferentes funciones de activación."
      ]
    },
    {
      "cell_type": "code",
      "execution_count": 68,
      "metadata": {
        "ExecuteTime": {
          "end_time": "2020-08-10T13:13:13.413081Z",
          "start_time": "2020-08-10T13:13:13.396082Z"
        },
        "id": "cjw2iIQ1vTSx"
      },
      "outputs": [],
      "source": [
        "# El perceptron\n",
        "class Linear(Layer):\n",
        "    def __init__(self, d_in, d_out):\n",
        "        # pesos de la capa, es una matriz con dimensiones de entrada y de salida con los pesos\n",
        "        self.w = np.random.normal(loc=0.0,\n",
        "                                  scale=np.sqrt(2/(d_in+d_out)),\n",
        "                                  size=(d_in, d_out))\n",
        "        # bias\n",
        "        self.b = np.zeros(d_out)\n",
        "\n",
        "    # Funcion que retorna la multiplicacion de los pesos y los inputs y se sumara el bias\n",
        "    def __call__(self, x):\n",
        "        # Recibe los inputs y se guardan para usar en la funcion backward\n",
        "        self.x = x\n",
        "        self.params = [self.w, self.b]\n",
        "        # salida del perceptron\n",
        "        return np.dot(x, self.w) + self.b\n",
        "\n",
        "    def backward(self, grad_output):\n",
        "        # 1ro calcula el gradiente que tiene que pasar a la siguiente capa (BACKPROP)\n",
        "        # donde multiplica la matriz de pesos por el gradiente de la capa anterior. es lo que retorna la funcion para ser utilizado en la capa siguiente\n",
        "        grad = np.dot(grad_output, self.w.T)\n",
        "        # gradientes con respecto a los pesos, producto d els inputs por el gradiente de la capa\n",
        "        self.grad_w = np.dot(self.x.T, grad_output)\n",
        "        # gradientes para actualizar pesos\n",
        "        self.grad_b = grad_output.mean(axis=0)*self.x.shape[0]\n",
        "        self.grads = [self.grad_w, self.grad_b]\n",
        "        return grad\n",
        "  # Le va cambiando valores d elos pesos y el bies en base al optimizador\n",
        "    def update(self, params):\n",
        "        self.w, self.b = params"
      ]
    },
    {
      "cell_type": "code",
      "execution_count": 69,
      "metadata": {
        "ExecuteTime": {
          "end_time": "2020-08-10T13:13:13.553974Z",
          "start_time": "2020-08-10T13:13:13.534217Z"
        },
        "id": "edtg08tZvTSx"
      },
      "outputs": [],
      "source": [
        "# funciones de activacion\n",
        "class ReLU(Layer):\n",
        "    # Recibe inputs y las almacena, devuelve el valor maximo enre los inputs y 0\n",
        "    def __call__(self, x):\n",
        "        self.x = x\n",
        "        return np.maximum(0, x)\n",
        "    # Se calcula la derivada de la relu y se multiplica por gradiente de la capa siguiente\n",
        "    def backward(self, grad_output):\n",
        "        grad = self.x > 0\n",
        "        return grad_output*grad\n",
        "\n",
        "def softmax(x):\n",
        "    return np.exp(x) / np.exp(x).sum(axis=-1,keepdims=True)\n"
      ]
    },
    {
      "cell_type": "markdown",
      "metadata": {
        "id": "5AGwiY4gvTSy"
      },
      "source": [
        "## Optimizador"
      ]
    },
    {
      "cell_type": "markdown",
      "metadata": {
        "id": "aVyKRL8vvTSy"
      },
      "source": [
        "De momento solo conocemos un algoritmo de optimización, el `descenso por gradiente`. En este algoritmo, iteraremos por todas las capas del `MLP` actualizando los parámetros."
      ]
    },
    {
      "cell_type": "code",
      "execution_count": 70,
      "metadata": {
        "ExecuteTime": {
          "end_time": "2020-08-10T13:13:13.980603Z",
          "start_time": "2020-08-10T13:13:13.975081Z"
        },
        "id": "uHg33b47vTSz"
      },
      "outputs": [],
      "source": [
        "# Descenso por el gradiente\n",
        "class SGD():\n",
        "    # Le pasamos la red y el learning rate\n",
        "    def __init__(self, net, lr):\n",
        "        self.net = net\n",
        "        self.lr = lr\n",
        "\n",
        "    # itera por todas las capas de la red neuronal\n",
        "    def update(self):\n",
        "        for layer in self.net.layers:\n",
        "            # a capa capa se le llama a su propia funcion update\n",
        "            layer.update([\n",
        "                # Regla de actualizacion\n",
        "                params - self.lr*grads\n",
        "                # iteramos los parametros y gradientes de cada capa\n",
        "                for params, grads in zip(layer.params, layer.grads)\n",
        "            ])"
      ]
    },
    {
      "cell_type": "code",
      "execution_count": 71,
      "metadata": {
        "ExecuteTime": {
          "end_time": "2020-08-10T13:13:14.563035Z",
          "start_time": "2020-08-10T13:13:14.545038Z"
        },
        "id": "TMTVQJWEvTS0"
      },
      "outputs": [],
      "source": [
        "# Funciones de perdida\n",
        "\n",
        "# Clase padre Loss\n",
        "class Loss():\n",
        "    def __init__(self, net):\n",
        "        self.net = net\n",
        "\n",
        "    def backward(self):\n",
        "        # derivada de la loss function con respecto\n",
        "        # a la salida del MLP\n",
        "        grad = self.grad_loss()\n",
        "        # Se hace todo el proceso de backpropagation\n",
        "        # Se itera todas las capas pero desde la ultima hasta la primera\n",
        "        for layer in reversed(self.net.layers):\n",
        "            grad = layer.backward(grad)\n",
        "\n",
        "class CrossEntropy(Loss):\n",
        "    def __call__(self, output, target):\n",
        "        self.output, self.target = output, target\n",
        "        logits = output[np.arange(len(output)), target.astype(int)]\n",
        "        loss = - logits + np.log(np.sum(np.exp(output), axis=-1))\n",
        "        loss = loss.mean()\n",
        "        return loss\n",
        "\n",
        "    def grad_loss(self):\n",
        "        answers = np.zeros_like(self.output)\n",
        "        answers[np.arange(len(self.output)), self.target.astype(int)] = 1\n",
        "        return (- answers + softmax(self.output)) / self.output.shape[0]"
      ]
    },
    {
      "cell_type": "code",
      "execution_count": 72,
      "metadata": {
        "colab": {
          "base_uri": "https://localhost:8080/"
        },
        "id": "9RBaBPB42FBq",
        "outputId": "d942efec-8c53-4bc0-b9e8-0a76793c3230"
      },
      "outputs": [
        {
          "name": "stdout",
          "output_type": "stream",
          "text": [
            "        Unnamed: 0      id  Gender      Customer Type  Age   Type of Travel  \\\n",
            "0                0   70172    Male     Loyal Customer   13  Personal Travel   \n",
            "1                1    5047    Male  disloyal Customer   25  Business travel   \n",
            "2                2  110028  Female     Loyal Customer   26  Business travel   \n",
            "3                3   24026  Female     Loyal Customer   25  Business travel   \n",
            "4                4  119299    Male     Loyal Customer   61  Business travel   \n",
            "...            ...     ...     ...                ...  ...              ...   \n",
            "103899      103899   94171  Female  disloyal Customer   23  Business travel   \n",
            "103900      103900   73097    Male     Loyal Customer   49  Business travel   \n",
            "103901      103901   68825    Male  disloyal Customer   30  Business travel   \n",
            "103902      103902   54173  Female  disloyal Customer   22  Business travel   \n",
            "103903      103903   62567    Male     Loyal Customer   27  Business travel   \n",
            "\n",
            "           Class  Flight Distance  Inflight wifi service  \\\n",
            "0       Eco Plus              460                      3   \n",
            "1       Business              235                      3   \n",
            "2       Business             1142                      2   \n",
            "3       Business              562                      2   \n",
            "4       Business              214                      3   \n",
            "...          ...              ...                    ...   \n",
            "103899       Eco              192                      2   \n",
            "103900  Business             2347                      4   \n",
            "103901  Business             1995                      1   \n",
            "103902       Eco             1000                      1   \n",
            "103903  Business             1723                      1   \n",
            "\n",
            "        Departure/Arrival time convenient  ...  Inflight entertainment  \\\n",
            "0                                       4  ...                       5   \n",
            "1                                       2  ...                       1   \n",
            "2                                       2  ...                       5   \n",
            "3                                       5  ...                       2   \n",
            "4                                       3  ...                       3   \n",
            "...                                   ...  ...                     ...   \n",
            "103899                                  1  ...                       2   \n",
            "103900                                  4  ...                       5   \n",
            "103901                                  1  ...                       4   \n",
            "103902                                  1  ...                       1   \n",
            "103903                                  3  ...                       1   \n",
            "\n",
            "        On-board service  Leg room service  Baggage handling  Checkin service  \\\n",
            "0                      4                 3                 4                4   \n",
            "1                      1                 5                 3                1   \n",
            "2                      4                 3                 4                4   \n",
            "3                      2                 5                 3                1   \n",
            "4                      3                 4                 4                3   \n",
            "...                  ...               ...               ...              ...   \n",
            "103899                 3                 1                 4                2   \n",
            "103900                 5                 5                 5                5   \n",
            "103901                 3                 2                 4                5   \n",
            "103902                 4                 5                 1                5   \n",
            "103903                 1                 1                 4                4   \n",
            "\n",
            "        Inflight service  Cleanliness  Departure Delay in Minutes  \\\n",
            "0                      5            5                          25   \n",
            "1                      4            1                           1   \n",
            "2                      4            5                           0   \n",
            "3                      4            2                          11   \n",
            "4                      3            3                           0   \n",
            "...                  ...          ...                         ...   \n",
            "103899                 3            2                           3   \n",
            "103900                 5            4                           0   \n",
            "103901                 5            4                           7   \n",
            "103902                 4            1                           0   \n",
            "103903                 3            1                           0   \n",
            "\n",
            "        Arrival Delay in Minutes             satisfaction  \n",
            "0                           18.0  neutral or dissatisfied  \n",
            "1                            6.0  neutral or dissatisfied  \n",
            "2                            0.0                satisfied  \n",
            "3                            9.0  neutral or dissatisfied  \n",
            "4                            0.0                satisfied  \n",
            "...                          ...                      ...  \n",
            "103899                       0.0  neutral or dissatisfied  \n",
            "103900                       0.0                satisfied  \n",
            "103901                      14.0  neutral or dissatisfied  \n",
            "103902                       0.0  neutral or dissatisfied  \n",
            "103903                       0.0  neutral or dissatisfied  \n",
            "\n",
            "[103904 rows x 25 columns]\n"
          ]
        }
      ],
      "source": [
        "data = pd.read_csv('train.csv')\n",
        "print(data)"
      ]
    },
    {
      "cell_type": "code",
      "execution_count": 73,
      "metadata": {
        "colab": {
          "base_uri": "https://localhost:8080/"
        },
        "id": "Oah8rNEN_7w3",
        "outputId": "b5847f41-7dba-427e-fc18-2f7ba2f824c9"
      },
      "outputs": [
        {
          "name": "stdout",
          "output_type": "stream",
          "text": [
            "<class 'pandas.core.frame.DataFrame'>\n",
            "RangeIndex: 103904 entries, 0 to 103903\n",
            "Data columns (total 25 columns):\n",
            " #   Column                             Non-Null Count   Dtype  \n",
            "---  ------                             --------------   -----  \n",
            " 0   Unnamed: 0                         103904 non-null  int64  \n",
            " 1   id                                 103904 non-null  int64  \n",
            " 2   Gender                             103904 non-null  object \n",
            " 3   Customer Type                      103904 non-null  object \n",
            " 4   Age                                103904 non-null  int64  \n",
            " 5   Type of Travel                     103904 non-null  object \n",
            " 6   Class                              103904 non-null  object \n",
            " 7   Flight Distance                    103904 non-null  int64  \n",
            " 8   Inflight wifi service              103904 non-null  int64  \n",
            " 9   Departure/Arrival time convenient  103904 non-null  int64  \n",
            " 10  Ease of Online booking             103904 non-null  int64  \n",
            " 11  Gate location                      103904 non-null  int64  \n",
            " 12  Food and drink                     103904 non-null  int64  \n",
            " 13  Online boarding                    103904 non-null  int64  \n",
            " 14  Seat comfort                       103904 non-null  int64  \n",
            " 15  Inflight entertainment             103904 non-null  int64  \n",
            " 16  On-board service                   103904 non-null  int64  \n",
            " 17  Leg room service                   103904 non-null  int64  \n",
            " 18  Baggage handling                   103904 non-null  int64  \n",
            " 19  Checkin service                    103904 non-null  int64  \n",
            " 20  Inflight service                   103904 non-null  int64  \n",
            " 21  Cleanliness                        103904 non-null  int64  \n",
            " 22  Departure Delay in Minutes         103904 non-null  int64  \n",
            " 23  Arrival Delay in Minutes           103594 non-null  float64\n",
            " 24  satisfaction                       103904 non-null  object \n",
            "dtypes: float64(1), int64(19), object(5)\n",
            "memory usage: 19.8+ MB\n"
          ]
        }
      ],
      "source": [
        "data.info()"
      ]
    },
    {
      "cell_type": "code",
      "execution_count": 75,
      "metadata": {
        "colab": {
          "base_uri": "https://localhost:8080/"
        },
        "id": "yR1kMA5TAAru",
        "outputId": "cfd9b56d-21c7-48a4-c48e-392c33bbbbbd"
      },
      "outputs": [
        {
          "name": "stdout",
          "output_type": "stream",
          "text": [
            "        Unnamed: 0      id  Gender  Customer Type  Age  Type of Travel  Class  \\\n",
            "0                0   70172       1              0   13               1      2   \n",
            "1                1    5047       1              1   25               0      0   \n",
            "2                2  110028       0              0   26               0      0   \n",
            "3                3   24026       0              0   25               0      0   \n",
            "4                4  119299       1              0   61               0      0   \n",
            "...            ...     ...     ...            ...  ...             ...    ...   \n",
            "103899      103899   94171       0              1   23               0      1   \n",
            "103900      103900   73097       1              0   49               0      0   \n",
            "103901      103901   68825       1              1   30               0      0   \n",
            "103902      103902   54173       0              1   22               0      1   \n",
            "103903      103903   62567       1              0   27               0      0   \n",
            "\n",
            "        Flight Distance  Inflight wifi service  \\\n",
            "0                   460                      3   \n",
            "1                   235                      3   \n",
            "2                  1142                      2   \n",
            "3                   562                      2   \n",
            "4                   214                      3   \n",
            "...                 ...                    ...   \n",
            "103899              192                      2   \n",
            "103900             2347                      4   \n",
            "103901             1995                      1   \n",
            "103902             1000                      1   \n",
            "103903             1723                      1   \n",
            "\n",
            "        Departure/Arrival time convenient  ...  Inflight entertainment  \\\n",
            "0                                       4  ...                       5   \n",
            "1                                       2  ...                       1   \n",
            "2                                       2  ...                       5   \n",
            "3                                       5  ...                       2   \n",
            "4                                       3  ...                       3   \n",
            "...                                   ...  ...                     ...   \n",
            "103899                                  1  ...                       2   \n",
            "103900                                  4  ...                       5   \n",
            "103901                                  1  ...                       4   \n",
            "103902                                  1  ...                       1   \n",
            "103903                                  3  ...                       1   \n",
            "\n",
            "        On-board service  Leg room service  Baggage handling  Checkin service  \\\n",
            "0                      4                 3                 4                4   \n",
            "1                      1                 5                 3                1   \n",
            "2                      4                 3                 4                4   \n",
            "3                      2                 5                 3                1   \n",
            "4                      3                 4                 4                3   \n",
            "...                  ...               ...               ...              ...   \n",
            "103899                 3                 1                 4                2   \n",
            "103900                 5                 5                 5                5   \n",
            "103901                 3                 2                 4                5   \n",
            "103902                 4                 5                 1                5   \n",
            "103903                 1                 1                 4                4   \n",
            "\n",
            "        Inflight service  Cleanliness  Departure Delay in Minutes  \\\n",
            "0                      5            5                          25   \n",
            "1                      4            1                           1   \n",
            "2                      4            5                           0   \n",
            "3                      4            2                          11   \n",
            "4                      3            3                           0   \n",
            "...                  ...          ...                         ...   \n",
            "103899                 3            2                           3   \n",
            "103900                 5            4                           0   \n",
            "103901                 5            4                           7   \n",
            "103902                 4            1                           0   \n",
            "103903                 3            1                           0   \n",
            "\n",
            "        Arrival Delay in Minutes  satisfaction  \n",
            "0                           18.0             0  \n",
            "1                            6.0             0  \n",
            "2                            0.0             1  \n",
            "3                            9.0             0  \n",
            "4                            0.0             1  \n",
            "...                          ...           ...  \n",
            "103899                       0.0             0  \n",
            "103900                       0.0             1  \n",
            "103901                      14.0             0  \n",
            "103902                       0.0             0  \n",
            "103903                       0.0             0  \n",
            "\n",
            "[103904 rows x 25 columns]\n"
          ]
        }
      ],
      "source": [
        "columnas_categoricas = data.select_dtypes(include=['object']).columns\n",
        "for columna in columnas_categoricas:\n",
        "  le = LabelEncoder()\n",
        "  data[columna] = le.fit_transform(data[columna])\n",
        "\n",
        "print(data)"
      ]
    },
    {
      "cell_type": "code",
      "execution_count": 76,
      "metadata": {
        "colab": {
          "base_uri": "https://localhost:8080/"
        },
        "id": "-4935Z5RAFy_",
        "outputId": "95615973-5fb9-4d85-9076-9c2716e1ddda"
      },
      "outputs": [
        {
          "name": "stdout",
          "output_type": "stream",
          "text": [
            "<class 'pandas.core.frame.DataFrame'>\n",
            "RangeIndex: 103904 entries, 0 to 103903\n",
            "Data columns (total 25 columns):\n",
            " #   Column                             Non-Null Count   Dtype  \n",
            "---  ------                             --------------   -----  \n",
            " 0   Unnamed: 0                         103904 non-null  int64  \n",
            " 1   id                                 103904 non-null  int64  \n",
            " 2   Gender                             103904 non-null  int64  \n",
            " 3   Customer Type                      103904 non-null  int64  \n",
            " 4   Age                                103904 non-null  int64  \n",
            " 5   Type of Travel                     103904 non-null  int64  \n",
            " 6   Class                              103904 non-null  int64  \n",
            " 7   Flight Distance                    103904 non-null  int64  \n",
            " 8   Inflight wifi service              103904 non-null  int64  \n",
            " 9   Departure/Arrival time convenient  103904 non-null  int64  \n",
            " 10  Ease of Online booking             103904 non-null  int64  \n",
            " 11  Gate location                      103904 non-null  int64  \n",
            " 12  Food and drink                     103904 non-null  int64  \n",
            " 13  Online boarding                    103904 non-null  int64  \n",
            " 14  Seat comfort                       103904 non-null  int64  \n",
            " 15  Inflight entertainment             103904 non-null  int64  \n",
            " 16  On-board service                   103904 non-null  int64  \n",
            " 17  Leg room service                   103904 non-null  int64  \n",
            " 18  Baggage handling                   103904 non-null  int64  \n",
            " 19  Checkin service                    103904 non-null  int64  \n",
            " 20  Inflight service                   103904 non-null  int64  \n",
            " 21  Cleanliness                        103904 non-null  int64  \n",
            " 22  Departure Delay in Minutes         103904 non-null  int64  \n",
            " 23  Arrival Delay in Minutes           103594 non-null  float64\n",
            " 24  satisfaction                       103904 non-null  int64  \n",
            "dtypes: float64(1), int64(24)\n",
            "memory usage: 19.8 MB\n"
          ]
        }
      ],
      "source": [
        "data.info()"
      ]
    },
    {
      "cell_type": "code",
      "execution_count": 77,
      "metadata": {
        "id": "CtymxcDHzgi4"
      },
      "outputs": [],
      "source": [
        "#llenar datos vacios\n",
        "vacios = ['Arrival Delay in Minutes']\n",
        "media_columnas = data[vacios].mean()\n",
        "data[vacios] = data[vacios].fillna(media_columnas)\n",
        "\n",
        "eliminar_columnas = ['Unnamed: 0', 'id']\n",
        "data = data.drop(eliminar_columnas, axis=1)"
      ]
    },
    {
      "cell_type": "code",
      "execution_count": 78,
      "metadata": {
        "colab": {
          "base_uri": "https://localhost:8080/"
        },
        "id": "Dc11vZBNAJQH",
        "outputId": "30a811f1-2ca2-4755-a53d-4e2e97bbc97a"
      },
      "outputs": [
        {
          "name": "stdout",
          "output_type": "stream",
          "text": [
            "<class 'pandas.core.frame.DataFrame'>\n",
            "RangeIndex: 103904 entries, 0 to 103903\n",
            "Data columns (total 23 columns):\n",
            " #   Column                             Non-Null Count   Dtype  \n",
            "---  ------                             --------------   -----  \n",
            " 0   Gender                             103904 non-null  int64  \n",
            " 1   Customer Type                      103904 non-null  int64  \n",
            " 2   Age                                103904 non-null  int64  \n",
            " 3   Type of Travel                     103904 non-null  int64  \n",
            " 4   Class                              103904 non-null  int64  \n",
            " 5   Flight Distance                    103904 non-null  int64  \n",
            " 6   Inflight wifi service              103904 non-null  int64  \n",
            " 7   Departure/Arrival time convenient  103904 non-null  int64  \n",
            " 8   Ease of Online booking             103904 non-null  int64  \n",
            " 9   Gate location                      103904 non-null  int64  \n",
            " 10  Food and drink                     103904 non-null  int64  \n",
            " 11  Online boarding                    103904 non-null  int64  \n",
            " 12  Seat comfort                       103904 non-null  int64  \n",
            " 13  Inflight entertainment             103904 non-null  int64  \n",
            " 14  On-board service                   103904 non-null  int64  \n",
            " 15  Leg room service                   103904 non-null  int64  \n",
            " 16  Baggage handling                   103904 non-null  int64  \n",
            " 17  Checkin service                    103904 non-null  int64  \n",
            " 18  Inflight service                   103904 non-null  int64  \n",
            " 19  Cleanliness                        103904 non-null  int64  \n",
            " 20  Departure Delay in Minutes         103904 non-null  int64  \n",
            " 21  Arrival Delay in Minutes           103904 non-null  float64\n",
            " 22  satisfaction                       103904 non-null  int64  \n",
            "dtypes: float64(1), int64(22)\n",
            "memory usage: 18.2 MB\n"
          ]
        }
      ],
      "source": [
        "data.info()"
      ]
    },
    {
      "cell_type": "code",
      "execution_count": 79,
      "metadata": {
        "id": "XUydg28JAL6N"
      },
      "outputs": [],
      "source": [
        "data = data.to_numpy()"
      ]
    },
    {
      "cell_type": "code",
      "execution_count": 80,
      "metadata": {
        "colab": {
          "base_uri": "https://localhost:8080/"
        },
        "id": "YSxZNEkIzxQq",
        "outputId": "536a3d90-5a40-4d9e-a195-f19e70e5df7a"
      },
      "outputs": [
        {
          "data": {
            "text/plain": [
              "((100000, 22), (100000,))"
            ]
          },
          "execution_count": 80,
          "metadata": {},
          "output_type": "execute_result"
        }
      ],
      "source": [
        "\n",
        "X = data[:90000, [0,1,2,3,5,6,7,8,9,10,11,12,13,14,15,16,17,18,19,20,21,22]]\n",
        "Y = data[:90000, 4]\n",
        "\n",
        "# normalización datos\n",
        "X_mean, X_std = X.mean(axis=0), X.std(axis=0)\n",
        "X_norm = (X - X_mean) / X_std\n",
        "\n",
        "X.shape, Y.shape"
      ]
    },
    {
      "cell_type": "code",
      "execution_count": 81,
      "metadata": {
        "ExecuteTime": {
          "end_time": "2020-08-10T13:16:59.934417Z",
          "start_time": "2020-08-10T13:16:59.511295Z"
        },
        "id": "SoKCcSQuvTTU"
      },
      "outputs": [],
      "source": [
        "D_in, H, D_out = 22, 100, 3\n",
        "\n",
        "# Perceptron multicapa donde se pasa la lista de capas\n",
        "mlp = MLP([\n",
        "    Linear(D_in, H),\n",
        "    ReLU(),\n",
        "    Linear(H, H),\n",
        "    ReLU(),\n",
        "    Linear(H, H),\n",
        "    ReLU(),\n",
        "    Linear(H, H),\n",
        "    ReLU(),\n",
        "    Linear(H, D_out)\n",
        "])\n",
        "# Calcula la loss function y empezar el calculo d elos gradientes, inicializando el backpropagation\n",
        "loss = CrossEntropy(mlp)"
      ]
    },
    {
      "cell_type": "code",
      "execution_count": 87,
      "metadata": {
        "colab": {
          "base_uri": "https://localhost:8080/"
        },
        "id": "4xuTgKpw_gAr",
        "outputId": "b04b8a3b-d6a3-46ef-c659-311d51fd3e25"
      },
      "outputs": [
        {
          "name": "stdout",
          "output_type": "stream",
          "text": [
            "Epoch 10/200, Loss: 0.1341\n",
            "Epoch 20/200, Loss: 0.1135\n",
            "Epoch 30/200, Loss: 0.1027\n",
            "Epoch 40/200, Loss: 0.0955\n",
            "Epoch 50/200, Loss: 0.0901\n",
            "Epoch 60/200, Loss: 0.0858\n",
            "Epoch 70/200, Loss: 0.0822\n",
            "Epoch 80/200, Loss: 0.0791\n",
            "Epoch 90/200, Loss: 0.0764\n",
            "Epoch 100/200, Loss: 0.0741\n",
            "Epoch 110/200, Loss: 0.0719\n",
            "Epoch 120/200, Loss: 0.0699\n",
            "Epoch 130/200, Loss: 0.0681\n",
            "Epoch 140/200, Loss: 0.0665\n",
            "Epoch 150/200, Loss: 0.0649\n",
            "Epoch 160/200, Loss: 0.0635\n",
            "Epoch 170/200, Loss: 0.0622\n",
            "Epoch 180/200, Loss: 0.0609\n",
            "Epoch 190/200, Loss: 0.0597\n",
            "Epoch 200/200, Loss: 0.0586\n"
          ]
        }
      ],
      "source": [
        "# Definimos el objeto objeto optimizador que actualiza los pesos\n",
        "optimizer = SGD(mlp, lr=0.001)\n",
        "\n",
        "\n",
        "# Bucle de entrenamiento\n",
        "epochs = 200 # cantidad de veces que entrenara todo el dataset\n",
        "batch_size = 100  # agarra grupos de 100  en cada epoch para ano llenar memorias\n",
        "\n",
        "batches = len(X) // batch_size\n",
        "log_each = 10 # cada cuantos epoch imprime   10/200\n",
        "l = [] # perdida total\n",
        "\n",
        "# Se itera por unas cuantas epoch y luego se itera por el dataset en batches\n",
        "for e in range(1,epochs+1):\n",
        "    _l = [] # perdida por cada epoch\n",
        "    for b in range(batches):\n",
        "        x = X_norm[b*batch_size:(b+1)*batch_size]\n",
        "        y = Y[b*batch_size:(b+1)*batch_size]\n",
        "        # Se calcula la salida del perceptron pasando las entradas al objeto MLP\n",
        "        y_pred = mlp(x)\n",
        "        # Se pasa las predicciones para calcular la funcion de perdida y se ira almacenando en la lista\n",
        "        _l.append(loss(y_pred, y))\n",
        "        # Se llama a la funcion backward para iniciar el backpropagation calculando todas las derivadas de la funcion de perdida con respecto a todos los pesos, las capas que sean automaticamente se calcularan todos los gradientes\n",
        "        loss.backward()\n",
        "        # El optimizador actualizara los pesos\n",
        "        optimizer.update()\n",
        "    l.append(np.mean(_l))\n",
        "    if not e % log_each:\n",
        "        print(f'Epoch {e}/{epochs}, Loss: {np.mean(l):.4f}')\n",
        "\n",
        "# Epoch 500 saltos 50,  Loss:0.1111 200 neuronas  99.83% de relacion"
      ]
    },
    {
      "cell_type": "code",
      "execution_count": 83,
      "metadata": {
        "colab": {
          "base_uri": "https://localhost:8080/"
        },
        "id": "2saFGqI8fqLJ",
        "outputId": "9c596b50-2783-475d-bb92-924c86bd7119"
      },
      "outputs": [
        {
          "name": "stdout",
          "output_type": "stream",
          "text": [
            "Predicciones del modelo:\n",
            "[1 0 1 ... 0 0 0]\n",
            "Valores reales:\n",
            "[2. 1. 1. ... 0. 0. 0.]\n",
            "Porcentaje de relación:\n",
            "95.99%\n"
          ]
        }
      ],
      "source": [
        "#Array de prueba\n",
        "X_test = X[90000:, :].copy()\n",
        "\n",
        "# Normaliza los datos de prueba porque los estamos agarrando in normalizar\n",
        "X_test_norm = (X_test - X_mean) / X_std\n",
        "\n",
        "# Pasa los datos de prueba a través del modelo para obtener las predicciones\n",
        "y_pred_test = mlp(X_test_norm)\n",
        "\n",
        "# Convierte las predicciones a clases elige el maximo de los valores\n",
        "prediccion = np.argmax(y_pred_test, axis=1)\n",
        "\n",
        "# verificamos los resultados\n",
        "print(\"Predicciones del modelo:\")\n",
        "print(prediccion)\n",
        "print(\"Valores reales:\")\n",
        "print(Y[90000:])\n",
        "\n",
        "# Calcula el porcentaje de relación entre las predicciones y los valores reales\n",
        "total_ejemplos = len(prediccion)\n",
        "correlacion = np.sum(prediccion == Y[90000:])\n",
        "porcentaje = (correlacion / total_ejemplos) * 100\n",
        "\n",
        "\n",
        "print(\"Porcentaje de relación:\")\n",
        "print(f\"{porcentaje:.2f}%\")\n"
      ]
    },
    {
      "cell_type": "code",
      "execution_count": 90,
      "metadata": {
        "id": "spr_RerF_gA2"
      },
      "outputs": [],
      "source": [
        "def predict_one():\n",
        "    #Valor de prueba\n",
        "    x_index = random.randint(0, 100000)\n",
        "\n",
        "    X_test = X[x_index, :].copy()\n",
        "\n",
        "    X_test_norm = (X_test - X_mean) / X_std\n",
        "\n",
        "    y_pred_test = mlp(X_test_norm)\n",
        "\n",
        "    prediccion = np.argmax(y_pred_test)\n",
        "\n",
        "    print(\"Prediccion del modelo:\")\n",
        "    print(prediccion)\n",
        "    print(\"Valor real:\")\n",
        "    print(f\"{Y[x_index]:.0f}\\n\")"
      ]
    },
    {
      "cell_type": "code",
      "execution_count": 91,
      "metadata": {
        "colab": {
          "base_uri": "https://localhost:8080/"
        },
        "id": "2o4UgGXr_gA3",
        "outputId": "308365a7-cf7f-4de0-e99b-3dc8920b240c"
      },
      "outputs": [
        {
          "name": "stdout",
          "output_type": "stream",
          "text": [
            "Prediccion del modelo:\n",
            "1\n",
            "Valor real:\n",
            "1\n",
            "\n",
            "Prediccion del modelo:\n",
            "1\n",
            "Valor real:\n",
            "1\n",
            "\n",
            "Prediccion del modelo:\n",
            "1\n",
            "Valor real:\n",
            "1\n",
            "\n",
            "Prediccion del modelo:\n",
            "1\n",
            "Valor real:\n",
            "1\n",
            "\n",
            "Prediccion del modelo:\n",
            "1\n",
            "Valor real:\n",
            "1\n",
            "\n"
          ]
        }
      ],
      "source": [
        "for i in range(5):\n",
        "    predict_one()"
      ]
    }
  ],
  "metadata": {
    "colab": {
      "provenance": []
    },
    "kernelspec": {
      "display_name": "Python 3.10.9 ('base')",
      "language": "python",
      "name": "python3"
    },
    "language_info": {
      "codemirror_mode": {
        "name": "ipython",
        "version": 3
      },
      "file_extension": ".py",
      "mimetype": "text/x-python",
      "name": "python",
      "nbconvert_exporter": "python",
      "pygments_lexer": "ipython3",
      "version": "3.10.9"
    },
    "toc": {
      "base_numbering": 1,
      "nav_menu": {},
      "number_sections": true,
      "sideBar": true,
      "skip_h1_title": false,
      "title_cell": "Table of Contents",
      "title_sidebar": "Contents",
      "toc_cell": false,
      "toc_position": {
        "height": "calc(100% - 180px)",
        "left": "10px",
        "top": "150px",
        "width": "233.594px"
      },
      "toc_section_display": true,
      "toc_window_display": false
    },
    "vscode": {
      "interpreter": {
        "hash": "b0eefe7352f6cb4f75dca9baa9a4e8571664b9ec4682e28aeb3c5a3b07d0374e"
      }
    }
  },
  "nbformat": 4,
  "nbformat_minor": 0
}
